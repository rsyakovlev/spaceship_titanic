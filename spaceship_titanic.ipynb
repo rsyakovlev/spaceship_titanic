{
 "cells": [
  {
   "cell_type": "markdown",
   "id": "14f69ee4",
   "metadata": {},
   "source": [
    "#### Libraries import"
   ]
  },
  {
   "cell_type": "code",
   "execution_count": 1,
   "id": "863f20f6",
   "metadata": {},
   "outputs": [],
   "source": [
    "import pandas as pd\n",
    "import numpy as np"
   ]
  },
  {
   "cell_type": "code",
   "execution_count": 2,
   "id": "28a52635",
   "metadata": {},
   "outputs": [],
   "source": [
    "import matplotlib.pyplot as plt\n",
    "import seaborn as sns"
   ]
  },
  {
   "cell_type": "code",
   "execution_count": 3,
   "id": "e57e1d77",
   "metadata": {},
   "outputs": [],
   "source": [
    "from sklearn.feature_extraction.text import TfidfVectorizer\n",
    "from sklearn.decomposition import PCA"
   ]
  },
  {
   "cell_type": "code",
   "execution_count": 4,
   "id": "b0cf160f",
   "metadata": {},
   "outputs": [],
   "source": [
    "from catboost import CatBoostClassifier, Pool"
   ]
  },
  {
   "cell_type": "code",
   "execution_count": 5,
   "id": "4d920253",
   "metadata": {},
   "outputs": [],
   "source": [
    "from sklearn.metrics import accuracy_score"
   ]
  },
  {
   "cell_type": "code",
   "execution_count": 6,
   "id": "c51b395d",
   "metadata": {},
   "outputs": [],
   "source": [
    "import random"
   ]
  },
  {
   "cell_type": "code",
   "execution_count": null,
   "id": "0f0d5b7b",
   "metadata": {},
   "outputs": [],
   "source": []
  },
  {
   "cell_type": "markdown",
   "id": "8e0db0e8",
   "metadata": {},
   "source": [
    "#### Fix random seed"
   ]
  },
  {
   "cell_type": "code",
   "execution_count": 7,
   "id": "aac8f32d",
   "metadata": {},
   "outputs": [],
   "source": [
    "def seed_everything(seed):\n",
    "    random.seed(seed)\n",
    "    np.random.seed(seed)\n",
    "\n",
    "seed = 123\n",
    "seed_everything(seed)"
   ]
  },
  {
   "cell_type": "code",
   "execution_count": null,
   "id": "0e7ad912",
   "metadata": {},
   "outputs": [],
   "source": []
  },
  {
   "cell_type": "markdown",
   "id": "4e74e537",
   "metadata": {},
   "source": [
    "#### Data import"
   ]
  },
  {
   "cell_type": "code",
   "execution_count": 8,
   "id": "ebb05cc9",
   "metadata": {},
   "outputs": [],
   "source": [
    "df_train_init = pd.read_csv(r\"train.csv\", na_values=np.nan)"
   ]
  },
  {
   "cell_type": "code",
   "execution_count": 9,
   "id": "773867b3",
   "metadata": {},
   "outputs": [],
   "source": [
    "df_submission_init = pd.read_csv(r\"test.csv\", na_values=np.nan)"
   ]
  },
  {
   "cell_type": "code",
   "execution_count": null,
   "id": "81d34476",
   "metadata": {},
   "outputs": [],
   "source": []
  },
  {
   "cell_type": "markdown",
   "id": "44e0623e",
   "metadata": {},
   "source": [
    "#### Data preprocessing"
   ]
  },
  {
   "cell_type": "code",
   "execution_count": 10,
   "id": "c2cae0eb",
   "metadata": {},
   "outputs": [],
   "source": [
    "X_train, y_train = df_train_init.drop(['Transported'], axis=1), df_train_init['Transported']"
   ]
  },
  {
   "cell_type": "code",
   "execution_count": 11,
   "id": "a3a010e2",
   "metadata": {},
   "outputs": [],
   "source": [
    "y_train = y_train.apply(float)"
   ]
  },
  {
   "cell_type": "code",
   "execution_count": 12,
   "id": "cc28fe69",
   "metadata": {},
   "outputs": [],
   "source": [
    "X_submission = df_submission_init.copy()"
   ]
  },
  {
   "cell_type": "code",
   "execution_count": 13,
   "id": "c15bd127",
   "metadata": {},
   "outputs": [],
   "source": [
    "submission_id = X_submission['PassengerId'].tolist()"
   ]
  },
  {
   "cell_type": "code",
   "execution_count": null,
   "id": "c2a6eae1",
   "metadata": {},
   "outputs": [],
   "source": []
  },
  {
   "cell_type": "code",
   "execution_count": 14,
   "id": "60b30e7f",
   "metadata": {},
   "outputs": [
    {
     "data": {
      "text/html": [
       "<div>\n",
       "<style scoped>\n",
       "    .dataframe tbody tr th:only-of-type {\n",
       "        vertical-align: middle;\n",
       "    }\n",
       "\n",
       "    .dataframe tbody tr th {\n",
       "        vertical-align: top;\n",
       "    }\n",
       "\n",
       "    .dataframe thead th {\n",
       "        text-align: right;\n",
       "    }\n",
       "</style>\n",
       "<table border=\"1\" class=\"dataframe\">\n",
       "  <thead>\n",
       "    <tr style=\"text-align: right;\">\n",
       "      <th></th>\n",
       "      <th>PassengerId</th>\n",
       "      <th>HomePlanet</th>\n",
       "      <th>CryoSleep</th>\n",
       "      <th>Cabin</th>\n",
       "      <th>Destination</th>\n",
       "      <th>Age</th>\n",
       "      <th>VIP</th>\n",
       "      <th>RoomService</th>\n",
       "      <th>FoodCourt</th>\n",
       "      <th>ShoppingMall</th>\n",
       "      <th>Spa</th>\n",
       "      <th>VRDeck</th>\n",
       "      <th>Name</th>\n",
       "      <th>Transported</th>\n",
       "    </tr>\n",
       "  </thead>\n",
       "  <tbody>\n",
       "    <tr>\n",
       "      <th>0</th>\n",
       "      <td>0001_01</td>\n",
       "      <td>Europa</td>\n",
       "      <td>False</td>\n",
       "      <td>B/0/P</td>\n",
       "      <td>TRAPPIST-1e</td>\n",
       "      <td>39.0</td>\n",
       "      <td>False</td>\n",
       "      <td>0.0</td>\n",
       "      <td>0.0</td>\n",
       "      <td>0.0</td>\n",
       "      <td>0.0</td>\n",
       "      <td>0.0</td>\n",
       "      <td>Maham Ofracculy</td>\n",
       "      <td>False</td>\n",
       "    </tr>\n",
       "    <tr>\n",
       "      <th>1</th>\n",
       "      <td>0002_01</td>\n",
       "      <td>Earth</td>\n",
       "      <td>False</td>\n",
       "      <td>F/0/S</td>\n",
       "      <td>TRAPPIST-1e</td>\n",
       "      <td>24.0</td>\n",
       "      <td>False</td>\n",
       "      <td>109.0</td>\n",
       "      <td>9.0</td>\n",
       "      <td>25.0</td>\n",
       "      <td>549.0</td>\n",
       "      <td>44.0</td>\n",
       "      <td>Juanna Vines</td>\n",
       "      <td>True</td>\n",
       "    </tr>\n",
       "    <tr>\n",
       "      <th>2</th>\n",
       "      <td>0003_01</td>\n",
       "      <td>Europa</td>\n",
       "      <td>False</td>\n",
       "      <td>A/0/S</td>\n",
       "      <td>TRAPPIST-1e</td>\n",
       "      <td>58.0</td>\n",
       "      <td>True</td>\n",
       "      <td>43.0</td>\n",
       "      <td>3576.0</td>\n",
       "      <td>0.0</td>\n",
       "      <td>6715.0</td>\n",
       "      <td>49.0</td>\n",
       "      <td>Altark Susent</td>\n",
       "      <td>False</td>\n",
       "    </tr>\n",
       "  </tbody>\n",
       "</table>\n",
       "</div>"
      ],
      "text/plain": [
       "  PassengerId HomePlanet CryoSleep  Cabin  Destination   Age    VIP  \\\n",
       "0     0001_01     Europa     False  B/0/P  TRAPPIST-1e  39.0  False   \n",
       "1     0002_01      Earth     False  F/0/S  TRAPPIST-1e  24.0  False   \n",
       "2     0003_01     Europa     False  A/0/S  TRAPPIST-1e  58.0   True   \n",
       "\n",
       "   RoomService  FoodCourt  ShoppingMall     Spa  VRDeck             Name  \\\n",
       "0          0.0        0.0           0.0     0.0     0.0  Maham Ofracculy   \n",
       "1        109.0        9.0          25.0   549.0    44.0     Juanna Vines   \n",
       "2         43.0     3576.0           0.0  6715.0    49.0    Altark Susent   \n",
       "\n",
       "   Transported  \n",
       "0        False  \n",
       "1         True  \n",
       "2        False  "
      ]
     },
     "execution_count": 14,
     "metadata": {},
     "output_type": "execute_result"
    }
   ],
   "source": [
    "df_train_init.head(3)"
   ]
  },
  {
   "cell_type": "code",
   "execution_count": 15,
   "id": "6ce4d889",
   "metadata": {},
   "outputs": [
    {
     "data": {
      "text/plain": [
       "True     0.503624\n",
       "False    0.496376\n",
       "Name: Transported, dtype: float64"
      ]
     },
     "execution_count": 15,
     "metadata": {},
     "output_type": "execute_result"
    }
   ],
   "source": [
    "df_train_init['Transported'].value_counts(normalize=True)"
   ]
  },
  {
   "cell_type": "code",
   "execution_count": 16,
   "id": "b2f8e436",
   "metadata": {},
   "outputs": [
    {
     "data": {
      "text/plain": [
       "PassengerId      object\n",
       "HomePlanet       object\n",
       "CryoSleep        object\n",
       "Cabin            object\n",
       "Destination      object\n",
       "Age             float64\n",
       "VIP              object\n",
       "RoomService     float64\n",
       "FoodCourt       float64\n",
       "ShoppingMall    float64\n",
       "Spa             float64\n",
       "VRDeck          float64\n",
       "Name             object\n",
       "Transported        bool\n",
       "dtype: object"
      ]
     },
     "execution_count": 16,
     "metadata": {},
     "output_type": "execute_result"
    }
   ],
   "source": [
    "df_train_init.dtypes"
   ]
  },
  {
   "cell_type": "code",
   "execution_count": 17,
   "id": "21e94eae",
   "metadata": {},
   "outputs": [
    {
     "data": {
      "text/html": [
       "<div>\n",
       "<style scoped>\n",
       "    .dataframe tbody tr th:only-of-type {\n",
       "        vertical-align: middle;\n",
       "    }\n",
       "\n",
       "    .dataframe tbody tr th {\n",
       "        vertical-align: top;\n",
       "    }\n",
       "\n",
       "    .dataframe thead th {\n",
       "        text-align: right;\n",
       "    }\n",
       "</style>\n",
       "<table border=\"1\" class=\"dataframe\">\n",
       "  <thead>\n",
       "    <tr style=\"text-align: right;\">\n",
       "      <th></th>\n",
       "      <th>Age</th>\n",
       "      <th>RoomService</th>\n",
       "      <th>FoodCourt</th>\n",
       "      <th>ShoppingMall</th>\n",
       "      <th>Spa</th>\n",
       "      <th>VRDeck</th>\n",
       "    </tr>\n",
       "  </thead>\n",
       "  <tbody>\n",
       "    <tr>\n",
       "      <th>count</th>\n",
       "      <td>8514.000000</td>\n",
       "      <td>8512.000000</td>\n",
       "      <td>8510.000000</td>\n",
       "      <td>8485.000000</td>\n",
       "      <td>8510.000000</td>\n",
       "      <td>8505.000000</td>\n",
       "    </tr>\n",
       "    <tr>\n",
       "      <th>mean</th>\n",
       "      <td>28.827930</td>\n",
       "      <td>224.687617</td>\n",
       "      <td>458.077203</td>\n",
       "      <td>173.729169</td>\n",
       "      <td>311.138778</td>\n",
       "      <td>304.854791</td>\n",
       "    </tr>\n",
       "    <tr>\n",
       "      <th>std</th>\n",
       "      <td>14.489021</td>\n",
       "      <td>666.717663</td>\n",
       "      <td>1611.489240</td>\n",
       "      <td>604.696458</td>\n",
       "      <td>1136.705535</td>\n",
       "      <td>1145.717189</td>\n",
       "    </tr>\n",
       "    <tr>\n",
       "      <th>min</th>\n",
       "      <td>0.000000</td>\n",
       "      <td>0.000000</td>\n",
       "      <td>0.000000</td>\n",
       "      <td>0.000000</td>\n",
       "      <td>0.000000</td>\n",
       "      <td>0.000000</td>\n",
       "    </tr>\n",
       "    <tr>\n",
       "      <th>25%</th>\n",
       "      <td>19.000000</td>\n",
       "      <td>0.000000</td>\n",
       "      <td>0.000000</td>\n",
       "      <td>0.000000</td>\n",
       "      <td>0.000000</td>\n",
       "      <td>0.000000</td>\n",
       "    </tr>\n",
       "    <tr>\n",
       "      <th>50%</th>\n",
       "      <td>27.000000</td>\n",
       "      <td>0.000000</td>\n",
       "      <td>0.000000</td>\n",
       "      <td>0.000000</td>\n",
       "      <td>0.000000</td>\n",
       "      <td>0.000000</td>\n",
       "    </tr>\n",
       "    <tr>\n",
       "      <th>75%</th>\n",
       "      <td>38.000000</td>\n",
       "      <td>47.000000</td>\n",
       "      <td>76.000000</td>\n",
       "      <td>27.000000</td>\n",
       "      <td>59.000000</td>\n",
       "      <td>46.000000</td>\n",
       "    </tr>\n",
       "    <tr>\n",
       "      <th>max</th>\n",
       "      <td>79.000000</td>\n",
       "      <td>14327.000000</td>\n",
       "      <td>29813.000000</td>\n",
       "      <td>23492.000000</td>\n",
       "      <td>22408.000000</td>\n",
       "      <td>24133.000000</td>\n",
       "    </tr>\n",
       "  </tbody>\n",
       "</table>\n",
       "</div>"
      ],
      "text/plain": [
       "               Age   RoomService     FoodCourt  ShoppingMall           Spa  \\\n",
       "count  8514.000000   8512.000000   8510.000000   8485.000000   8510.000000   \n",
       "mean     28.827930    224.687617    458.077203    173.729169    311.138778   \n",
       "std      14.489021    666.717663   1611.489240    604.696458   1136.705535   \n",
       "min       0.000000      0.000000      0.000000      0.000000      0.000000   \n",
       "25%      19.000000      0.000000      0.000000      0.000000      0.000000   \n",
       "50%      27.000000      0.000000      0.000000      0.000000      0.000000   \n",
       "75%      38.000000     47.000000     76.000000     27.000000     59.000000   \n",
       "max      79.000000  14327.000000  29813.000000  23492.000000  22408.000000   \n",
       "\n",
       "             VRDeck  \n",
       "count   8505.000000  \n",
       "mean     304.854791  \n",
       "std     1145.717189  \n",
       "min        0.000000  \n",
       "25%        0.000000  \n",
       "50%        0.000000  \n",
       "75%       46.000000  \n",
       "max    24133.000000  "
      ]
     },
     "execution_count": 17,
     "metadata": {},
     "output_type": "execute_result"
    }
   ],
   "source": [
    "df_train_init.describe()"
   ]
  },
  {
   "cell_type": "code",
   "execution_count": 18,
   "id": "5236d233",
   "metadata": {},
   "outputs": [
    {
     "data": {
      "text/plain": [
       "PassengerId       0\n",
       "HomePlanet      201\n",
       "CryoSleep       217\n",
       "Cabin           199\n",
       "Destination     182\n",
       "Age             179\n",
       "VIP             203\n",
       "RoomService     181\n",
       "FoodCourt       183\n",
       "ShoppingMall    208\n",
       "Spa             183\n",
       "VRDeck          188\n",
       "Name            200\n",
       "Transported       0\n",
       "dtype: int64"
      ]
     },
     "execution_count": 18,
     "metadata": {},
     "output_type": "execute_result"
    }
   ],
   "source": [
    "df_train_init.isnull().sum()"
   ]
  },
  {
   "cell_type": "code",
   "execution_count": 19,
   "id": "52f4f14c",
   "metadata": {},
   "outputs": [
    {
     "data": {
      "image/png": "[encoded data removed]",
      "text/plain": [
       "<Figure size 300x2000 with 6 Axes>"
      ]
     },
     "metadata": {},
     "output_type": "display_data"
    }
   ],
   "source": [
    "fig, ax = plt.subplots(6, 1, figsize=(3, 20))\n",
    "\n",
    "for i, col in enumerate(df_train_init.columns[(df_train_init.dtypes != 'object')].tolist()):\n",
    "    if col != 'Transported':\n",
    "        sns.kdeplot(data=df_train_init, x=col, hue='Transported', ax=ax[i], warn_singular=False)"
   ]
  },
  {
   "cell_type": "code",
   "execution_count": 20,
   "id": "6fd1d288",
   "metadata": {},
   "outputs": [
    {
     "data": {
      "text/plain": [
       "HomePlanet\n",
       "Earth     0.423946\n",
       "Europa    0.658846\n",
       "Mars      0.523024\n",
       "Name: Transported, dtype: float64"
      ]
     },
     "execution_count": 20,
     "metadata": {},
     "output_type": "execute_result"
    }
   ],
   "source": [
    "df_train_init.groupby(['HomePlanet'])['Transported'].mean()"
   ]
  },
  {
   "cell_type": "code",
   "execution_count": 21,
   "id": "1383e739",
   "metadata": {},
   "outputs": [
    {
     "data": {
      "text/plain": [
       "CryoSleep\n",
       "False    0.328921\n",
       "True     0.817583\n",
       "Name: Transported, dtype: float64"
      ]
     },
     "execution_count": 21,
     "metadata": {},
     "output_type": "execute_result"
    }
   ],
   "source": [
    "df_train_init.groupby(['CryoSleep'])['Transported'].mean()"
   ]
  },
  {
   "cell_type": "code",
   "execution_count": 22,
   "id": "deecb43f",
   "metadata": {},
   "outputs": [
    {
     "data": {
      "text/plain": [
       "Destination\n",
       "55 Cancri e      0.610000\n",
       "PSO J318.5-22    0.503769\n",
       "TRAPPIST-1e      0.471175\n",
       "Name: Transported, dtype: float64"
      ]
     },
     "execution_count": 22,
     "metadata": {},
     "output_type": "execute_result"
    }
   ],
   "source": [
    "df_train_init.groupby(['Destination'])['Transported'].mean()"
   ]
  },
  {
   "cell_type": "code",
   "execution_count": 23,
   "id": "f761f0a8",
   "metadata": {},
   "outputs": [
    {
     "data": {
      "text/plain": [
       "Destination\n",
       "55 Cancri e      0.036995\n",
       "PSO J318.5-22    0.023256\n",
       "TRAPPIST-1e      0.019720\n",
       "Name: VIP, dtype: float64"
      ]
     },
     "execution_count": 23,
     "metadata": {},
     "output_type": "execute_result"
    }
   ],
   "source": [
    "df_train_init.groupby(['Destination'])['VIP'].mean()"
   ]
  },
  {
   "cell_type": "code",
   "execution_count": null,
   "id": "0e58b9b8",
   "metadata": {},
   "outputs": [],
   "source": []
  },
  {
   "cell_type": "markdown",
   "id": "92851b49",
   "metadata": {},
   "source": [
    "\"PassengerId\" feature is divided into 2 new features: \"PassengerId_group\" and \"PassengerId_number\""
   ]
  },
  {
   "cell_type": "code",
   "execution_count": 24,
   "id": "12d414d4",
   "metadata": {},
   "outputs": [],
   "source": [
    "X_train = pd.concat([X_train, pd.DataFrame(data=X_train['PassengerId'].apply(lambda x: list(map(int, x.split('_')))).tolist(), columns=['PassengerId_group', 'PassengerId_number'])], axis=1).drop(['PassengerId'], axis=1)"
   ]
  },
  {
   "cell_type": "markdown",
   "id": "0f9f0a5f",
   "metadata": {},
   "source": [
    "\"Cabin\" feature is divided into 3 new features: \"Cabin_deck\", \"Cabin_num\", \"Cabin_side\""
   ]
  },
  {
   "cell_type": "code",
   "execution_count": 25,
   "id": "d79deb5e",
   "metadata": {},
   "outputs": [],
   "source": [
    "X_train = pd.concat([X_train, pd.DataFrame(data=X_train['Cabin'].apply(lambda x: str(x).split('/')).tolist(), columns=['Cabin_deck', 'Cabin_num', 'Cabin_side'])], axis=1).drop(['Cabin'], axis=1)"
   ]
  },
  {
   "cell_type": "markdown",
   "id": "8fde4a54",
   "metadata": {},
   "source": [
    "\"Name\" is divided into 2 new features: \"First Name\" and \"Surname\""
   ]
  },
  {
   "cell_type": "code",
   "execution_count": 26,
   "id": "af11508e",
   "metadata": {},
   "outputs": [],
   "source": [
    "X_train = pd.concat([X_train, pd.DataFrame(data=X_train['Name'].apply(lambda x: [np.nan, np.nan] if pd.isna(x) else x.split()).tolist(), columns=['First Name', 'Surname'])], axis=1).drop(['Name'], axis=1)"
   ]
  },
  {
   "cell_type": "code",
   "execution_count": null,
   "id": "f010abbd",
   "metadata": {},
   "outputs": [],
   "source": []
  },
  {
   "cell_type": "code",
   "execution_count": 27,
   "id": "4001f322",
   "metadata": {},
   "outputs": [],
   "source": [
    "X_train['Cabin_num'] = X_train['Cabin_num'].astype(float)"
   ]
  },
  {
   "cell_type": "code",
   "execution_count": 28,
   "id": "7d5cd74c",
   "metadata": {},
   "outputs": [],
   "source": [
    "X_train['CryoSleep'] = X_train['CryoSleep'].astype(float)"
   ]
  },
  {
   "cell_type": "code",
   "execution_count": 29,
   "id": "d6a566b3",
   "metadata": {},
   "outputs": [],
   "source": [
    "X_train['VIP'] = X_train['VIP'].astype(float)"
   ]
  },
  {
   "cell_type": "code",
   "execution_count": null,
   "id": "4cf7feea",
   "metadata": {},
   "outputs": [],
   "source": []
  },
  {
   "cell_type": "markdown",
   "id": "af8feea8",
   "metadata": {},
   "source": [
    "new feature \"ServiceFeesSum\" is created"
   ]
  },
  {
   "cell_type": "code",
   "execution_count": 30,
   "id": "ecb420e0",
   "metadata": {},
   "outputs": [],
   "source": [
    "X_train['ServiceFeesSum'] = X_train[['RoomService', 'FoodCourt', 'ShoppingMall', 'Spa', 'VRDeck']].sum(axis=1)"
   ]
  },
  {
   "cell_type": "code",
   "execution_count": null,
   "id": "729e5d10",
   "metadata": {},
   "outputs": [],
   "source": []
  },
  {
   "cell_type": "markdown",
   "id": "6db2911e",
   "metadata": {},
   "source": [
    "new feature \"Nulls\" is created"
   ]
  },
  {
   "cell_type": "code",
   "execution_count": 31,
   "id": "922738d6",
   "metadata": {},
   "outputs": [],
   "source": [
    "X_train['Nulls'] = X_train.isnull().sum(axis=1)"
   ]
  },
  {
   "cell_type": "code",
   "execution_count": null,
   "id": "8979836f",
   "metadata": {},
   "outputs": [],
   "source": []
  },
  {
   "cell_type": "markdown",
   "id": "a1f928f1",
   "metadata": {},
   "source": [
    "new 1000 tf-idf features out of \"Surname\" feature are created"
   ]
  },
  {
   "cell_type": "code",
   "execution_count": 32,
   "id": "655520c6",
   "metadata": {},
   "outputs": [],
   "source": [
    "fullname_vectorizer = TfidfVectorizer(max_features=1000, ngram_range=(1, 1), min_df=1)"
   ]
  },
  {
   "cell_type": "code",
   "execution_count": 33,
   "id": "daca22b7",
   "metadata": {},
   "outputs": [],
   "source": [
    "X_train_fullname_tf_idf = pd.DataFrame(data=fullname_vectorizer.fit_transform(X_train['Surname'].fillna('')).toarray(), columns=fullname_vectorizer.get_feature_names_out())"
   ]
  },
  {
   "cell_type": "code",
   "execution_count": null,
   "id": "36547d0a",
   "metadata": {},
   "outputs": [],
   "source": []
  },
  {
   "cell_type": "markdown",
   "id": "a1dee4f7",
   "metadata": {},
   "source": [
    "1000 tf-idf features are replaced by 10 most informative principal components"
   ]
  },
  {
   "cell_type": "code",
   "execution_count": 34,
   "id": "a514fee5",
   "metadata": {},
   "outputs": [],
   "source": [
    "pca = PCA(10)"
   ]
  },
  {
   "cell_type": "code",
   "execution_count": 35,
   "id": "b3e32cf6",
   "metadata": {},
   "outputs": [],
   "source": [
    "X_train_fullname_tf_idf_pca = pd.DataFrame(pca.fit_transform(X_train_fullname_tf_idf))"
   ]
  },
  {
   "cell_type": "code",
   "execution_count": 36,
   "id": "163fa1da",
   "metadata": {},
   "outputs": [],
   "source": [
    "X_train = pd.concat([X_train, X_train_fullname_tf_idf_pca], axis=1)"
   ]
  },
  {
   "cell_type": "code",
   "execution_count": null,
   "id": "7c57c45f",
   "metadata": {},
   "outputs": [],
   "source": []
  },
  {
   "cell_type": "code",
   "execution_count": null,
   "id": "b36264a3",
   "metadata": {},
   "outputs": [],
   "source": []
  },
  {
   "cell_type": "markdown",
   "id": "aa4e8b42",
   "metadata": {},
   "source": [
    "the same is done for submission dataset"
   ]
  },
  {
   "cell_type": "code",
   "execution_count": 37,
   "id": "ea0f230d",
   "metadata": {},
   "outputs": [],
   "source": [
    "X_submission = pd.concat([X_submission, pd.DataFrame(data=X_submission['PassengerId'].apply(lambda x: list(map(int, x.split('_')))).tolist(), columns=['PassengerId_group', 'PassengerId_number'])], axis=1).drop(['PassengerId'], axis=1)"
   ]
  },
  {
   "cell_type": "code",
   "execution_count": 38,
   "id": "6643a7e3",
   "metadata": {},
   "outputs": [],
   "source": [
    "X_submission = pd.concat([X_submission, pd.DataFrame(data=X_submission['Cabin'].apply(lambda x: str(x).split('/')).tolist(), columns=['Cabin_deck', 'Cabin_num', 'Cabin_side'])], axis=1).drop(['Cabin'], axis=1)"
   ]
  },
  {
   "cell_type": "code",
   "execution_count": 39,
   "id": "9caec5ca",
   "metadata": {},
   "outputs": [],
   "source": [
    "X_submission = pd.concat([X_submission, pd.DataFrame(data=X_submission['Name'].apply(lambda x: [np.nan, np.nan] if pd.isna(x) else x.split()).tolist(), columns=['First Name', 'Surname'])], axis=1).drop(['Name'], axis=1)"
   ]
  },
  {
   "cell_type": "code",
   "execution_count": 40,
   "id": "d0b52c47",
   "metadata": {},
   "outputs": [],
   "source": [
    "X_submission['Cabin_num'] = X_submission['Cabin_num'].astype(float)"
   ]
  },
  {
   "cell_type": "code",
   "execution_count": 41,
   "id": "c6c6291b",
   "metadata": {},
   "outputs": [],
   "source": [
    "X_submission['CryoSleep'] = X_submission['CryoSleep'].astype(float)"
   ]
  },
  {
   "cell_type": "code",
   "execution_count": 42,
   "id": "4097277e",
   "metadata": {},
   "outputs": [],
   "source": [
    "X_submission['VIP'] = X_submission['VIP'].astype(float)"
   ]
  },
  {
   "cell_type": "code",
   "execution_count": 43,
   "id": "28671a76",
   "metadata": {},
   "outputs": [],
   "source": [
    "X_submission['ServiceFeesSum'] = X_submission[['RoomService', 'FoodCourt', 'ShoppingMall', 'Spa', 'VRDeck']].sum(axis=1)"
   ]
  },
  {
   "cell_type": "code",
   "execution_count": 44,
   "id": "aedb558f",
   "metadata": {},
   "outputs": [],
   "source": [
    "X_submission['Nulls'] = X_submission.isnull().sum(axis=1)"
   ]
  },
  {
   "cell_type": "code",
   "execution_count": 45,
   "id": "fdc73506",
   "metadata": {},
   "outputs": [],
   "source": [
    "X_submission_tf_idf = pd.DataFrame(data=fullname_vectorizer.transform(X_submission['Surname'].fillna('')).toarray(), columns=fullname_vectorizer.get_feature_names_out())"
   ]
  },
  {
   "cell_type": "code",
   "execution_count": 46,
   "id": "b323d2e1",
   "metadata": {},
   "outputs": [],
   "source": [
    "X_submission_tf_idf_pca = pd.DataFrame(pca.fit_transform(X_submission_tf_idf))"
   ]
  },
  {
   "cell_type": "code",
   "execution_count": 47,
   "id": "d3e8f554",
   "metadata": {},
   "outputs": [],
   "source": [
    "X_submission = pd.concat([X_submission, X_submission_tf_idf_pca], axis=1)"
   ]
  },
  {
   "cell_type": "code",
   "execution_count": null,
   "id": "b2bc1737",
   "metadata": {},
   "outputs": [],
   "source": []
  },
  {
   "cell_type": "markdown",
   "id": "ef774616",
   "metadata": {},
   "source": [
    "nulls are replaced"
   ]
  },
  {
   "cell_type": "code",
   "execution_count": 48,
   "id": "1696a3c9",
   "metadata": {},
   "outputs": [],
   "source": [
    "categorical_features = X_submission.columns[X_submission.dtypes == 'object'].tolist()\n",
    "numeric_features = X_submission.columns[X_submission.dtypes != 'object'].tolist()"
   ]
  },
  {
   "cell_type": "code",
   "execution_count": 49,
   "id": "e6a3e1a5",
   "metadata": {},
   "outputs": [],
   "source": [
    "for col in categorical_features:\n",
    "    X_submission[col] = X_submission[col].fillna('None')\n",
    "    X_train[col] = X_train[col].fillna('None')"
   ]
  },
  {
   "cell_type": "code",
   "execution_count": 50,
   "id": "976870fa",
   "metadata": {},
   "outputs": [],
   "source": [
    "for col in numeric_features:\n",
    "    val = X_train[col].median()\n",
    "    X_submission[col] = X_submission[col].fillna(val)\n",
    "    X_train[col] = X_train[col].fillna(val)"
   ]
  },
  {
   "cell_type": "code",
   "execution_count": 51,
   "id": "2bc1651b",
   "metadata": {},
   "outputs": [],
   "source": [
    "for col in categorical_features:\n",
    "    X_submission[col] = pd.Categorical(X_submission[col])\n",
    "    X_train[col] = pd.Categorical(X_train[col])"
   ]
  },
  {
   "cell_type": "code",
   "execution_count": null,
   "id": "e4663019",
   "metadata": {},
   "outputs": [],
   "source": []
  },
  {
   "cell_type": "markdown",
   "id": "83f9ed47",
   "metadata": {},
   "source": [
    "#### Model fitting"
   ]
  },
  {
   "cell_type": "code",
   "execution_count": 52,
   "id": "fba2c8dd",
   "metadata": {},
   "outputs": [],
   "source": [
    "catboost_model = CatBoostClassifier(iterations=1000, verbose=0, random_seed=seed, eval_metric='Accuracy')"
   ]
  },
  {
   "cell_type": "code",
   "execution_count": 53,
   "id": "e2a73f17",
   "metadata": {},
   "outputs": [],
   "source": [
    "pool = Pool(data=X_train,\n",
    "            label=y_train,\n",
    "            cat_features=categorical_features)"
   ]
  },
  {
   "cell_type": "code",
   "execution_count": 54,
   "id": "78a46773",
   "metadata": {},
   "outputs": [
    {
     "data": {
      "text/plain": [
       "<catboost.core.CatBoostClassifier at 0x18b58c8cb50>"
      ]
     },
     "execution_count": 54,
     "metadata": {},
     "output_type": "execute_result"
    }
   ],
   "source": [
    "catboost_model.fit(pool)"
   ]
  },
  {
   "cell_type": "code",
   "execution_count": null,
   "id": "4513e268",
   "metadata": {},
   "outputs": [],
   "source": []
  },
  {
   "cell_type": "markdown",
   "id": "c660829b",
   "metadata": {},
   "source": [
    "#### Features importance estimation"
   ]
  },
  {
   "cell_type": "code",
   "execution_count": 55,
   "id": "045d5813",
   "metadata": {},
   "outputs": [],
   "source": [
    "feature_importances = pd.DataFrame()\n",
    "feature_importances['Feature'] = X_train.columns.tolist()\n",
    "feature_importances['Importance'] = catboost_model.feature_importances_.tolist()"
   ]
  },
  {
   "cell_type": "code",
   "execution_count": 56,
   "id": "e32d96ec",
   "metadata": {},
   "outputs": [
    {
     "data": {
      "text/html": [
       "<div>\n",
       "<style scoped>\n",
       "    .dataframe tbody tr th:only-of-type {\n",
       "        vertical-align: middle;\n",
       "    }\n",
       "\n",
       "    .dataframe tbody tr th {\n",
       "        vertical-align: top;\n",
       "    }\n",
       "\n",
       "    .dataframe thead th {\n",
       "        text-align: right;\n",
       "    }\n",
       "</style>\n",
       "<table border=\"1\" class=\"dataframe\">\n",
       "  <thead>\n",
       "    <tr style=\"text-align: right;\">\n",
       "      <th></th>\n",
       "      <th>Feature</th>\n",
       "      <th>Importance</th>\n",
       "    </tr>\n",
       "  </thead>\n",
       "  <tbody>\n",
       "    <tr>\n",
       "      <th>17</th>\n",
       "      <td>ServiceFeesSum</td>\n",
       "      <td>11.936829</td>\n",
       "    </tr>\n",
       "    <tr>\n",
       "      <th>8</th>\n",
       "      <td>Spa</td>\n",
       "      <td>9.592415</td>\n",
       "    </tr>\n",
       "    <tr>\n",
       "      <th>9</th>\n",
       "      <td>VRDeck</td>\n",
       "      <td>8.292712</td>\n",
       "    </tr>\n",
       "    <tr>\n",
       "      <th>12</th>\n",
       "      <td>Cabin_deck</td>\n",
       "      <td>7.775866</td>\n",
       "    </tr>\n",
       "    <tr>\n",
       "      <th>0</th>\n",
       "      <td>HomePlanet</td>\n",
       "      <td>7.523307</td>\n",
       "    </tr>\n",
       "    <tr>\n",
       "      <th>6</th>\n",
       "      <td>FoodCourt</td>\n",
       "      <td>7.192985</td>\n",
       "    </tr>\n",
       "    <tr>\n",
       "      <th>13</th>\n",
       "      <td>Cabin_num</td>\n",
       "      <td>6.224594</td>\n",
       "    </tr>\n",
       "    <tr>\n",
       "      <th>5</th>\n",
       "      <td>RoomService</td>\n",
       "      <td>4.827435</td>\n",
       "    </tr>\n",
       "    <tr>\n",
       "      <th>14</th>\n",
       "      <td>Cabin_side</td>\n",
       "      <td>4.584357</td>\n",
       "    </tr>\n",
       "    <tr>\n",
       "      <th>1</th>\n",
       "      <td>CryoSleep</td>\n",
       "      <td>4.365846</td>\n",
       "    </tr>\n",
       "    <tr>\n",
       "      <th>7</th>\n",
       "      <td>ShoppingMall</td>\n",
       "      <td>4.009861</td>\n",
       "    </tr>\n",
       "    <tr>\n",
       "      <th>3</th>\n",
       "      <td>Age</td>\n",
       "      <td>3.812063</td>\n",
       "    </tr>\n",
       "    <tr>\n",
       "      <th>10</th>\n",
       "      <td>PassengerId_group</td>\n",
       "      <td>3.154254</td>\n",
       "    </tr>\n",
       "    <tr>\n",
       "      <th>2</th>\n",
       "      <td>Destination</td>\n",
       "      <td>2.201185</td>\n",
       "    </tr>\n",
       "    <tr>\n",
       "      <th>15</th>\n",
       "      <td>First Name</td>\n",
       "      <td>1.536690</td>\n",
       "    </tr>\n",
       "    <tr>\n",
       "      <th>16</th>\n",
       "      <td>Surname</td>\n",
       "      <td>1.470381</td>\n",
       "    </tr>\n",
       "    <tr>\n",
       "      <th>26</th>\n",
       "      <td>7</td>\n",
       "      <td>1.424768</td>\n",
       "    </tr>\n",
       "    <tr>\n",
       "      <th>22</th>\n",
       "      <td>3</td>\n",
       "      <td>1.288968</td>\n",
       "    </tr>\n",
       "    <tr>\n",
       "      <th>23</th>\n",
       "      <td>4</td>\n",
       "      <td>1.210187</td>\n",
       "    </tr>\n",
       "    <tr>\n",
       "      <th>20</th>\n",
       "      <td>1</td>\n",
       "      <td>1.148164</td>\n",
       "    </tr>\n",
       "    <tr>\n",
       "      <th>21</th>\n",
       "      <td>2</td>\n",
       "      <td>1.080767</td>\n",
       "    </tr>\n",
       "    <tr>\n",
       "      <th>27</th>\n",
       "      <td>8</td>\n",
       "      <td>1.053619</td>\n",
       "    </tr>\n",
       "    <tr>\n",
       "      <th>28</th>\n",
       "      <td>9</td>\n",
       "      <td>0.952892</td>\n",
       "    </tr>\n",
       "    <tr>\n",
       "      <th>25</th>\n",
       "      <td>6</td>\n",
       "      <td>0.921191</td>\n",
       "    </tr>\n",
       "    <tr>\n",
       "      <th>19</th>\n",
       "      <td>0</td>\n",
       "      <td>0.838765</td>\n",
       "    </tr>\n",
       "    <tr>\n",
       "      <th>24</th>\n",
       "      <td>5</td>\n",
       "      <td>0.818073</td>\n",
       "    </tr>\n",
       "    <tr>\n",
       "      <th>18</th>\n",
       "      <td>Nulls</td>\n",
       "      <td>0.356641</td>\n",
       "    </tr>\n",
       "    <tr>\n",
       "      <th>11</th>\n",
       "      <td>PassengerId_number</td>\n",
       "      <td>0.333090</td>\n",
       "    </tr>\n",
       "    <tr>\n",
       "      <th>4</th>\n",
       "      <td>VIP</td>\n",
       "      <td>0.072096</td>\n",
       "    </tr>\n",
       "  </tbody>\n",
       "</table>\n",
       "</div>"
      ],
      "text/plain": [
       "               Feature  Importance\n",
       "17      ServiceFeesSum   11.936829\n",
       "8                  Spa    9.592415\n",
       "9               VRDeck    8.292712\n",
       "12          Cabin_deck    7.775866\n",
       "0           HomePlanet    7.523307\n",
       "6            FoodCourt    7.192985\n",
       "13           Cabin_num    6.224594\n",
       "5          RoomService    4.827435\n",
       "14          Cabin_side    4.584357\n",
       "1            CryoSleep    4.365846\n",
       "7         ShoppingMall    4.009861\n",
       "3                  Age    3.812063\n",
       "10   PassengerId_group    3.154254\n",
       "2          Destination    2.201185\n",
       "15          First Name    1.536690\n",
       "16             Surname    1.470381\n",
       "26                   7    1.424768\n",
       "22                   3    1.288968\n",
       "23                   4    1.210187\n",
       "20                   1    1.148164\n",
       "21                   2    1.080767\n",
       "27                   8    1.053619\n",
       "28                   9    0.952892\n",
       "25                   6    0.921191\n",
       "19                   0    0.838765\n",
       "24                   5    0.818073\n",
       "18               Nulls    0.356641\n",
       "11  PassengerId_number    0.333090\n",
       "4                  VIP    0.072096"
      ]
     },
     "execution_count": 56,
     "metadata": {},
     "output_type": "execute_result"
    }
   ],
   "source": [
    "feature_importances.sort_values(by='Importance', ascending=False)"
   ]
  },
  {
   "cell_type": "code",
   "execution_count": null,
   "id": "842559f3",
   "metadata": {},
   "outputs": [],
   "source": []
  },
  {
   "cell_type": "markdown",
   "id": "cbc9ed7c",
   "metadata": {},
   "source": [
    "#### Prediction threshold setting"
   ]
  },
  {
   "cell_type": "code",
   "execution_count": 57,
   "id": "1ecef8ac",
   "metadata": {},
   "outputs": [],
   "source": [
    "thr = 0.51"
   ]
  },
  {
   "cell_type": "code",
   "execution_count": null,
   "id": "c739c338",
   "metadata": {},
   "outputs": [],
   "source": []
  },
  {
   "cell_type": "markdown",
   "id": "8c76a36b",
   "metadata": {},
   "source": [
    "#### Train data accuracy evaluation"
   ]
  },
  {
   "cell_type": "code",
   "execution_count": 58,
   "id": "52e78045",
   "metadata": {},
   "outputs": [
    {
     "data": {
      "text/plain": [
       "0.875647072357069"
      ]
     },
     "execution_count": 58,
     "metadata": {},
     "output_type": "execute_result"
    }
   ],
   "source": [
    "accuracy_score((catboost_model.predict_proba(X_train)[:, 1] > thr), y_train)"
   ]
  },
  {
   "cell_type": "code",
   "execution_count": null,
   "id": "f8026119",
   "metadata": {},
   "outputs": [],
   "source": []
  },
  {
   "cell_type": "markdown",
   "id": "0966bd37",
   "metadata": {},
   "source": [
    "#### Submission dataset prediction"
   ]
  },
  {
   "cell_type": "code",
   "execution_count": 59,
   "id": "40cd479f",
   "metadata": {},
   "outputs": [],
   "source": [
    "result_df = pd.DataFrame()\n",
    "result_df['PassengerId'] = submission_id\n",
    "result_df['Transported'] = (catboost_model.predict_proba(X_submission)[:, 1] > thr)"
   ]
  },
  {
   "cell_type": "code",
   "execution_count": 60,
   "id": "e2780a54",
   "metadata": {},
   "outputs": [],
   "source": [
    "result_df.to_csv(r\"submission.csv\", index=False)"
   ]
  },
  {
   "cell_type": "code",
   "execution_count": null,
   "id": "36f6ea94",
   "metadata": {},
   "outputs": [],
   "source": []
  },
  {
   "cell_type": "markdown",
   "id": "db4a920d",
   "metadata": {},
   "source": [
    "submission dataset accuracy - 0.81014 <br>\n",
    "result - top 3% leaderboard"
   ]
  },
  {
   "cell_type": "code",
   "execution_count": null,
   "id": "b7530431",
   "metadata": {},
   "outputs": [],
   "source": []
  }
 ],
 "metadata": {
  "kernelspec": {
   "display_name": "Python 3 (ipykernel)",
   "language": "python",
   "name": "python3"
  },
  "language_info": {
   "codemirror_mode": {
    "name": "ipython",
    "version": 3
   },
   "file_extension": ".py",
   "mimetype": "text/x-python",
   "name": "python",
   "nbconvert_exporter": "python",
   "pygments_lexer": "ipython3",
   "version": "3.10.9"
  }
 },
 "nbformat": 4,
 "nbformat_minor": 5
}
